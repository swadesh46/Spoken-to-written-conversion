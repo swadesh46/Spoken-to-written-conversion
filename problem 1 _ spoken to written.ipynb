{
 "cells": [
  {
   "cell_type": "code",
   "execution_count": null,
   "metadata": {
    "id": "5GyJPVTUAIEe"
   },
   "outputs": [],
   "source": [
    "rules = {\"word_to_number\":{\"zero\": 0,\"one\" : 1,\"two\": 2,\"three\": 3,\"four\": 4,\"five\": 5,\"six\": 6,\"seven\": 7,\n",
    "                        \"eight\": 8,\"nine\": 9,\"ten\": 10,\"twenty\": 20,\"thirty\": 30,\"forty\": 40,\"fifty\": 50,\n",
    "                        \"sixty\": 60,\"seventy\": 70,\"eighty\": 80,\"ninety\": 90,\"hundred\": 100},\n",
    "            \"Tuples\": {\"single\":1,\"double\":2,\"triple\":3,\"quadruple\":4,\"quintuple\":5,\"sextuple\":6,\n",
    "                         \"septuple\":7,\"octuple\":8,\"nonuple\":9,\"decuple\":10},\n",
    "            \"short_form\": {\"C M\": \"CM\",\"P M\": \"PM\",\"D M\": \"DM\",\"A M\": \"AM\"}}\n",
    "\n",
    "def check_front_last_word(word):\n",
    "  last=''\n",
    "  front=''\n",
    "  actual_word=''\n",
    "  if (word[0]==',' or word[0]=='.') and (word[-1]==',' or word[-1]=='.'):\n",
    "    front=word[0]\n",
    "    actual_word=word[1:-1]\n",
    "    last=word[-1]\n",
    "  elif (word[0]==',' or word[0]=='.'):\n",
    "    front=word[0]\n",
    "    actual_word=word[1:]\n",
    "  elif (word[-1]==',' or word[-1]=='.'):\n",
    "    last=word[-1]\n",
    "    actual_word=word[0:-1]\n",
    "  else:\n",
    "    actual_word=word\n",
    "  return front,actual_word,last\n",
    "\n",
    "\n",
    "def convert_to_written_english(sent,rules):\n",
    "  splited=sent.split()\n",
    "  splited_count=len(splited)\n",
    "\n",
    "  word_to_number=rules['word_to_number']\n",
    "  Tuples=rules['Tuples']\n",
    "  short_form=rules['short_form']\n",
    "  output_sent=''\n",
    "  i=0\n",
    "  while i < splited_count:\n",
    "    f,w,l=check_front_last_word(splited[i])\n",
    "    if i+1!=splited_count:\n",
    "      f_n,w_n,l_n=check_front_last_word(splited[i+1])\n",
    "\n",
    "      if w.lower() in word_to_number.keys() and (w_n.lower()=='dollars' or w_n.lower()=='dollar'):\n",
    "        output_sent=output_sent+' '+f+'$'+str(word_to_number[w.lower()])+l_n\n",
    "        i=i+2\n",
    "      elif w.lower() in word_to_number.keys():\n",
    "        output_sent=output_sent+' '+f+str(word_to_number[w.lower()])+l\n",
    "        i=i+1\n",
    "      elif w.lower() in Tuples.keys() and len(w_n)==1:  \n",
    "        output_sent=output_sent+\" \"+f+(w_n*Tuples[w.lower()])+l_n\n",
    "        i=i+2\n",
    "      elif (w+\" \"+w_n) in short_form.keys():\n",
    "        output_sent=output_sent+\" \"+f+w+w_n+l_n\n",
    "        i=i+2\n",
    "      else:\n",
    "        output_sent=output_sent+\" \"+f+w+l\n",
    "        i=i+1\n",
    "    else :\n",
    "      output_sent=output_sent+\" \"+f+w+l\n",
    "      i=i+1\n",
    "  return output_sent\n",
    "\n",
    "#sent='I am holding hundred dollars. double A, fifty pen at 6 PM'\n",
    "s=input('Please input the sentence')\n",
    "convert_to_written_english(s,rules)\n"
   ]
  }
 ],
 "metadata": {
  "colab": {
   "authorship_tag": "ABX9TyMfLp6b7+thQEkpu9XVBfc7",
   "collapsed_sections": [],
   "name": "problem 1 : spoken to written.ipynb",
   "provenance": [
    {
     "file_id": "1TpkdR7ZaPuztPDhFi8ZsPU3HDKY8Bs11",
     "timestamp": 1616673092748
    }
   ]
  },
  "kernelspec": {
   "display_name": "Python 3",
   "language": "python",
   "name": "python3"
  },
  "language_info": {
   "codemirror_mode": {
    "name": "ipython",
    "version": 3
   },
   "file_extension": ".py",
   "mimetype": "text/x-python",
   "name": "python",
   "nbconvert_exporter": "python",
   "pygments_lexer": "ipython3",
   "version": "3.7.7"
  }
 },
 "nbformat": 4,
 "nbformat_minor": 1
}
